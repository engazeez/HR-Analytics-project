{
 "cells": [
  {
   "cell_type": "markdown",
   "metadata": {},
   "source": [
    "## Import libraries"
   ]
  },
  {
   "cell_type": "code",
   "execution_count": 1,
   "metadata": {},
   "outputs": [],
   "source": [
    "import pandas as pd\n",
    "import numpy as np\n",
    "import matplotlib.pyplot as plt\n",
    "from sklearn.linear_model import LinearRegression\n",
    "from sklearn.ensemble import RandomForestRegressor, GradientBoostingRegressor\n",
    "from sklearn.model_selection import cross_val_score\n",
    "from sklearn.utils import shuffle\n",
    "from sklearn.metrics import mean_squared_error\n",
    "from sklearn.preprocessing import LabelEncoder\n",
    "from sklearn.pipeline import make_pipeline\n",
    "from sklearn.decomposition import PCA\n",
    "from sklearn.preprocessing import StandardScaler"
   ]
  },
  {
   "cell_type": "code",
   "execution_count": 2,
   "metadata": {},
   "outputs": [],
   "source": [
    "class Data:\n",
    "    def __init__(self, train_features_file, test_file, train_target_file, target_feature, id_feature , cat_feautes, num_features):\n",
    "        '''create train and test dataframe'''\n",
    "        self.target_feature = target_feature\n",
    "        self.cat_features = cat_feautes\n",
    "        self.num_features = num_features\n",
    "        self.features = cat_feautes + num_features\n",
    "        self.id_feature = id_feature\n",
    "        self.label_encoders = {}\n",
    "        self.train_df = self._creating_train_df(train_features_file, train_target_file)\n",
    "        self.test_df = self._creating_test_df(test_file)\n",
    "        \n",
    "    def label_encode_df(self, df, cols):\n",
    "        '''create one label encoder for each column in the data object instance'''\n",
    "        for col in cols:\n",
    "            if col in self.label_encoders:\n",
    "                #if label encoder already exits for col, use it\n",
    "                self._label_encode(df, col, self.label_encoders[col])\n",
    "            else:\n",
    "                self._label_encode(df, col)\n",
    "    \n",
    "    def _label_encode(self, df, col, le=None):\n",
    "        '''label encodes data'''\n",
    "        if le:\n",
    "            df[col] = le.transform(df[col])\n",
    "        else:\n",
    "            le = LabelEncoder()\n",
    "            le.fit(df[col])\n",
    "            df[col] = le.transform(df[col])\n",
    "            self.label_encoders[col] = le\n",
    "    \n",
    "    def _loading_data(self, file):\n",
    "        \"\"\" load data\"\"\"\n",
    "        return pd.read_csv(file)\n",
    "    \n",
    "    def _creating_train_df(self, train_features_df, train_target_df, preprocessing=True, label_encode=True):\n",
    "        ''' loads and merges training data features and target, preprocesses data and encodes data'''\n",
    "        train_features_df = self._loading_data(train_features_df)\n",
    "        train_target_df = self._loading_data(train_target_df)\n",
    "        train_df = self._merge_dfs(train_features_df, train_target_df, key=self.id_feature)\n",
    "        \n",
    "        if preprocessing:\n",
    "            train_df = self._cleaning_df(train_df)\n",
    "            train_df = self._shuffle_df(train_df)\n",
    "            \n",
    "        if label_encode:\n",
    "            self.label_encode_df(train_df, self.cat_features)\n",
    "        return train_df\n",
    "    \n",
    "    def _creating_test_df(self, test_features_df, label_encode=True):\n",
    "        ''' loads and encodes testing data '''\n",
    "        test_df = self._loading_data(test_features_df)\n",
    "        \n",
    "        if label_encode:\n",
    "            self.label_encode_df(test_df, self.cat_features)\n",
    "        return test_df\n",
    "    \n",
    "    def _merge_dfs(self, df1, df2, key=None, left_index=False, right_index=False):\n",
    "        ''' mearges data'''\n",
    "        return pd.merge(left=df1, right=df2, how='inner', on=key, left_index=left_index, right_index=right_index)\n",
    "    \n",
    "    def _cleaning_df(self, df):\n",
    "        ''' removes duplicated job_id and  salary == 0'''\n",
    "        df = df.drop_duplicates(subset=self.id_feature)\n",
    "        df = df[df[self.target_feature] > 0]\n",
    "        return df\n",
    "    \n",
    "    def _shuffle_df(self, df):\n",
    "        ''' shuffles data'''\n",
    "        return shuffle(df).reset_index(drop=True)"
   ]
  },
  {
   "cell_type": "code",
   "execution_count": 3,
   "metadata": {},
   "outputs": [],
   "source": [
    "class ModelContainer:\n",
    "    '''train training data and '''\n",
    "    def __init__(self, data, models=[]):\n",
    "        self.models = models\n",
    "        self.best_model = None\n",
    "        self.predictions = None\n",
    "        self.mean_mse = {}\n",
    "    \n",
    "    def add_model(self, model):\n",
    "        self.models.append(model)\n",
    "    \n",
    "    def cross_validate(self, data, k=3, num_procs=1):\n",
    "        '''cross validate models using given data'''\n",
    "        for model in self.models:\n",
    "            neg_mse = cross_val_score(model, data.train_df[data.cat_features+data.num_features], data.train_df[data.target_feature], cv=k, n_jobs=num_procs, scoring='neg_mean_squared_error')\n",
    "            self.mean_mse[model] = -1.0*np.mean(neg_mse)\n",
    "    \n",
    "    def select_best_model(self):\n",
    "        '''select model with lowest mse'''\n",
    "        self.best_model = min(self.mean_mse, key=self.mean_mse.get)\n",
    "    \n",
    "    def best_model_fit(self, features, targets):\n",
    "        '''fits best model'''\n",
    "        self.best_model.fit(features, targets)\n",
    "    \n",
    "    def best_model_predict(self, features):\n",
    "        '''scores features using best model'''\n",
    "        self.predictions = self.best_model.predict(features)\n",
    "    \n",
    "    def get_feature_importance(self, model, cols):\n",
    "        '''retrieves and sorts feature importances'''\n",
    "        if hasattr(model, 'feature_importances_'):\n",
    "            importances = model.feature_importances_\n",
    "            feature_importances = pd.DataFrame({'feature':cols, 'importance':importances})\n",
    "            feature_importances.sort_values(by='importance', ascending=False, inplace=True)\n",
    "            #set index to 'feature'\n",
    "            feature_importances.set_index('feature', inplace=True, drop=True)\n",
    "            return feature_importances\n",
    "        else:\n",
    "            #some models don't have feature_importances_\n",
    "            return \"Feature importances do not exist for given model\"\n",
    "\n",
    "    def print_summary(self):\n",
    "        '''prints summary of models, best model, and feature importance'''\n",
    "        print('\\nModel Summaries:\\n')\n",
    "        for model in models.mean_mse:\n",
    "            print('\\n', model, '- MSE:', models.mean_mse[model])\n",
    "        print('\\nBest Model:\\n', models.best_model)\n",
    "        print('\\nMSE of Best Model\\n', models.mean_mse[models.best_model])\n",
    "        print('\\nFeature Importances\\n', models.get_feature_importance(models.best_model, data.features))\n",
    "\n",
    "        feature_importances = self.get_feature_importance(models.best_model, data.features)\n",
    "        feature_importances.plot.bar()\n",
    "        plt.show()"
   ]
  },
  {
   "cell_type": "code",
   "execution_count": 3,
   "metadata": {},
   "outputs": [],
   "source": [
    "#define input files\n",
    "train_feature_file = 'Downloads/data/train_features.csv'\n",
    "train_target_file = 'Downloads/data/train_salaries.csv'\n",
    "test_file = 'Downloads/data/test_features.csv'\n",
    "\n",
    "#define variables\n",
    "cat_cols = ['companyId', 'jobType', 'degree', 'major', 'industry']\n",
    "num_cols = ['yearsExperience', 'milesFromMetropolis']\n",
    "target_col = 'salary'\n",
    "id_col = 'jobId'\n",
    "\n",
    "#define number of processors to use for parallel runs\n",
    "num_procs = 4\n",
    "k = 2\n",
    "#set verbose level for models\n",
    "verbose_lvl = 0\n",
    "\n",
    "#turn feature engineering on/off\n",
    "engineer_features = True"
   ]
  },
  {
   "cell_type": "code",
   "execution_count": 4,
   "metadata": {},
   "outputs": [],
   "source": [
    "data = Data(train_feature_file, test_file, train_target_file, target_col, id_col, cat_cols, num_cols)"
   ]
  },
  {
   "cell_type": "code",
   "execution_count": 6,
   "metadata": {},
   "outputs": [],
   "source": [
    "#create model container\n",
    "models = ModelContainer(data)\n",
    "#create models -- with default parameters for each model\n",
    "models.add_model(LinearRegression())\n",
    "models.add_model(RandomForestRegressor())\n",
    "models.add_model(GradientBoostingRegressor())"
   ]
  },
  {
   "cell_type": "markdown",
   "metadata": {},
   "source": [
    "## Cross validate models, then select, fit, and score test data with best model"
   ]
  },
  {
   "cell_type": "code",
   "execution_count": 7,
   "metadata": {
    "scrolled": false
   },
   "outputs": [],
   "source": [
    "models.cross_validate(data, k=k, num_procs=num_procs)\n",
    "models.select_best_model()\n",
    "models.best_model_fit(data.train_df[cat_cols+num_cols], data.train_df[target_col])\n",
    "models.best_model_predict(data.test_df[cat_cols+num_cols])"
   ]
  },
  {
   "cell_type": "code",
   "execution_count": 8,
   "metadata": {},
   "outputs": [
    {
     "name": "stdout",
     "output_type": "stream",
     "text": [
      "\n",
      "Model Summaries:\n",
      "\n",
      "\n",
      " LinearRegression() - MSE: 925.1107064959633\n",
      "\n",
      " RandomForestRegressor() - MSE: 411.46724320021883\n",
      "\n",
      " GradientBoostingRegressor() - MSE: 386.46256880196756\n",
      "\n",
      "Best Model:\n",
      " GradientBoostingRegressor()\n",
      "\n",
      "MSE of Best Model\n",
      " 386.46256880196756\n",
      "\n",
      "Feature Importances\n",
      "                      importance\n",
      "feature                        \n",
      "jobType                0.434747\n",
      "yearsExperience        0.191309\n",
      "milesFromMetropolis    0.128758\n",
      "industry               0.113268\n",
      "major                  0.100618\n",
      "degree                 0.031299\n",
      "companyId              0.000000\n"
     ]
    },
    {
     "data": {
      "image/png": "[encoded data removed]",
      "text/plain": [
       "<Figure size 432x288 with 1 Axes>"
      ]
     },
     "metadata": {
      "needs_background": "light"
     },
     "output_type": "display_data"
    }
   ],
   "source": [
    "models.print_summary()"
   ]
  },
  {
   "cell_type": "code",
   "execution_count": null,
   "metadata": {},
   "outputs": [],
   "source": []
  }
 ],
 "metadata": {
  "kernelspec": {
   "display_name": "Python 3",
   "language": "python",
   "name": "python3"
  },
  "language_info": {
   "codemirror_mode": {
    "name": "ipython",
    "version": 3
   },
   "file_extension": ".py",
   "mimetype": "text/x-python",
   "name": "python",
   "nbconvert_exporter": "python",
   "pygments_lexer": "ipython3",
   "version": "3.8.5"
  }
 },
 "nbformat": 4,
 "nbformat_minor": 4
}
